{
 "cells": [
  {
   "cell_type": "code",
   "execution_count": 49,
   "metadata": {},
   "outputs": [],
   "source": [
    "from IPython.core.interactiveshell import InteractiveShell\n",
    "InteractiveShell.ast_node_interactivity = \"all\"\n",
    "import json\n",
    "from operator import itemgetter"
   ]
  },
  {
   "cell_type": "code",
   "execution_count": 1,
   "metadata": {},
   "outputs": [],
   "source": [
    "info = {\n",
    "    'title': \"Indoor relocalization in challenging environments with dual-stream convolutional neural networks\",\n",
    "    'pub': \"TASE\",\n",
    "    'year': 2018,\n",
    "    'url': \"https://ieeexplore.ieee.org/abstract/document/7869254\", \n",
    "    'code': \"\"\n",
    "}"
   ]
  },
  {
   "cell_type": "code",
   "execution_count": 2,
   "metadata": {},
   "outputs": [
    {
     "name": "stdout",
     "output_type": "stream",
     "text": [
      "![](https://img.shields.io/badge/year-2018-g)|![](https://img.shields.io/badge/pub-TASE-orange)|[Indoor relocalization in challenging environments with dual-stream convolutional neural networks](https://ieeexplore.ieee.org/abstract/document/7869254)\n"
     ]
    }
   ],
   "source": [
    "if info['code'] != \"\":\n",
    "    print(f\"![](https://img.shields.io/badge/year-{info['year']}-g)|![](https://img.shields.io/badge/pub-{info['pub']}-orange)|[{info['title']}]({info['url']}) |[code]({info['code']})![](https://img.shields.io/github/stars/{info['code'].split('/')[-2]}/{info['code'].split('/')[-1]}?style=social)\")\n",
    "else:\n",
    "    print(f\"![](https://img.shields.io/badge/year-{info['year']}-g)|![](https://img.shields.io/badge/pub-{info['pub']}-orange)|[{info['title']}]({info['url']})\")"
   ]
  },
  {
   "cell_type": "code",
   "execution_count": 61,
   "metadata": {},
   "outputs": [],
   "source": [
    "with open('json_data/feature matching.json', 'r') as f:\n",
    "    data = json.load(f)"
   ]
  },
  {
   "cell_type": "code",
   "execution_count": 62,
   "metadata": {},
   "outputs": [
    {
     "data": {
      "text/plain": [
       "[{'title': 'Image based localization in urban environments',\n",
       "  'pub': '3DPVT',\n",
       "  'year': 2006,\n",
       "  'url': 'https://ieeexplore.ieee.org/abstract/document/4155707/',\n",
       "  'code': ''},\n",
       " {'title': 'Image geo-localization based on multiplenearest neighbor feature matching usinggeneralized graphs',\n",
       "  'pub': 'TPAMI',\n",
       "  'year': 2014,\n",
       "  'url': 'https://ieeexplore.ieee.org/abstract/document/6710175/',\n",
       "  'code': ''},\n",
       " {'title': 'Are large-scale 3d models really necessary for accurate visual localization',\n",
       "  'pub': 'CVPR',\n",
       "  'year': 2017,\n",
       "  'url': 'http://openaccess.thecvf.com/content_cvpr_2017/html/Sattler_Are_Large-Scale_3D_CVPR_2017_paper.html',\n",
       "  'code': ''},\n",
       " {'title': 'Camera relocalization by computing pairwise relative poses using convolutional neural network',\n",
       "  'pub': 'ICCVW',\n",
       "  'year': 2017,\n",
       "  'url': 'https://openaccess.thecvf.com/content_ICCV_2017_workshops/w17/html/Laskar_Camera_Relocalization_by_ICCV_2017_paper.html',\n",
       "  'code': ''},\n",
       " {'title': 'S2dnet: Learning accurate correspondences for sparse-to-dense feature matching',\n",
       "  'pub': 'Arxiv',\n",
       "  'year': 2020,\n",
       "  'url': 'https://arxiv.org/abs/2004.01673',\n",
       "  'code': 'https://github.com/germain-hug/S2DNet-Minimal'},\n",
       " {'title': 'SuperGlue: learning feature matching with graph neural networks',\n",
       "  'pub': 'CVPR',\n",
       "  'year': 2020,\n",
       "  'url': 'http://openaccess.thecvf.com/content_CVPR_2020/html/Sarlin_SuperGlue_Learning_Feature_Matching_With_Graph_Neural_Networks_CVPR_2020_paper.html',\n",
       "  'code': 'https://github.com/magicleap/SuperGluePretrainedNetwork'},\n",
       " {'title': 'To learn or not to learn: visual localization from essential matrices',\n",
       "  'pub': 'ICRA',\n",
       "  'year': 2020,\n",
       "  'url': 'https://ieeexplore.ieee.org/abstract/document/9196607/',\n",
       "  'code': ''},\n",
       " {'title': 'LoFTR: detector-free local feature matching with transformers',\n",
       "  'pub': 'CVPR',\n",
       "  'year': 2021,\n",
       "  'url': 'http://openaccess.thecvf.com/content/CVPR2021/html/Sun_LoFTR_Detector-Free_Local_Feature_Matching_With_Transformers_CVPR_2021_paper.html',\n",
       "  'code': 'https://github.com/zju3dv/LoFTR'},\n",
       " {'title': 'Clustergnn: Cluster-based coarse-to-fine graph neural network for efficient feature matching',\n",
       "  'pub': 'CVPR',\n",
       "  'year': 2022,\n",
       "  'url': 'http://openaccess.thecvf.com/content/CVPR2022/html/Shi_ClusterGNN_Cluster-Based_Coarse-To-Fine_Graph_Neural_Network_for_Efficient_Feature_Matching_CVPR_2022_paper.html',\n",
       "  'code': ''},\n",
       " {'title': '3DG-stfm: 3d geometric guided student-teacher feature matching',\n",
       "  'pub': 'ECCV',\n",
       "  'year': 2022,\n",
       "  'url': 'https://link.springer.com/chapter/10.1007/978-3-031-19815-1_8',\n",
       "  'code': 'https://github.com/ryan-prime/3dg-stfm'}]"
      ]
     },
     "execution_count": 62,
     "metadata": {},
     "output_type": "execute_result"
    }
   ],
   "source": [
    "sorted(data, key=itemgetter('year', 'pub'))"
   ]
  }
 ],
 "metadata": {
  "kernelspec": {
   "display_name": "statistics",
   "language": "python",
   "name": "python3"
  },
  "language_info": {
   "codemirror_mode": {
    "name": "ipython",
    "version": 3
   },
   "file_extension": ".py",
   "mimetype": "text/x-python",
   "name": "python",
   "nbconvert_exporter": "python",
   "pygments_lexer": "ipython3",
   "version": "3.9.7"
  },
  "orig_nbformat": 4
 },
 "nbformat": 4,
 "nbformat_minor": 2
}
